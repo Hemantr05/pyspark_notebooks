{
  "nbformat": 4,
  "nbformat_minor": 0,
  "metadata": {
    "colab": {
      "provenance": [],
      "toc_visible": true,
      "authorship_tag": "ABX9TyMTyCnPL7QvaUlXGtjQRCk2",
      "include_colab_link": true
    },
    "kernelspec": {
      "name": "python3",
      "display_name": "Python 3"
    },
    "language_info": {
      "name": "python"
    }
  },
  "cells": [
    {
      "cell_type": "markdown",
      "metadata": {
        "id": "view-in-github",
        "colab_type": "text"
      },
      "source": [
        "<a href=\"https://colab.research.google.com/github/Hemantr05/pyspark_notebooks/blob/master/text_classification/pyspark_text_classification.ipynb\" target=\"_parent\"><img src=\"https://colab.research.google.com/assets/colab-badge.svg\" alt=\"Open In Colab\"/></a>"
      ]
    },
    {
      "cell_type": "markdown",
      "source": [
        "# Text Classification with PySpark\n",
        "\n",
        "source: https://www.youtube.com/watch?v=b8K_zEZBf9s"
      ],
      "metadata": {
        "id": "mkmmu75YrO3u"
      }
    },
    {
      "cell_type": "markdown",
      "source": [
        "Download pyspark"
      ],
      "metadata": {
        "id": "0iIRAk5bXVRE"
      }
    },
    {
      "cell_type": "code",
      "execution_count": null,
      "metadata": {
        "colab": {
          "base_uri": "https://localhost:8080/"
        },
        "id": "UqoxwLo7Wqfm",
        "outputId": "bfdca441-c950-44c9-c6dd-c5b8b0fdb060"
      },
      "outputs": [
        {
          "output_type": "stream",
          "name": "stdout",
          "text": [
            "Looking in indexes: https://pypi.org/simple, https://us-python.pkg.dev/colab-wheels/public/simple/\n",
            "Requirement already satisfied: pyspark in /usr/local/lib/python3.8/dist-packages (3.3.1)\n",
            "Requirement already satisfied: py4j==0.10.9.5 in /usr/local/lib/python3.8/dist-packages (from pyspark) (0.10.9.5)\n"
          ]
        }
      ],
      "source": [
        "!pip install pyspark"
      ]
    },
    {
      "cell_type": "markdown",
      "source": [
        "Download dataset"
      ],
      "metadata": {
        "id": "k1GChjuEXTlV"
      }
    },
    {
      "cell_type": "code",
      "source": [
        "#!wget https://raw.githubusercontent.com/Jcharis/pyspark-tutorials/main/Text_Classification_with_PySpark/data/udemy_courses_clean.csv"
      ],
      "metadata": {
        "colab": {
          "base_uri": "https://localhost:8080/"
        },
        "id": "ZQKQyYb5Wv5c",
        "outputId": "2cc62f6c-3891-4dea-81e9-e80d2342680a"
      },
      "execution_count": null,
      "outputs": [
        {
          "output_type": "stream",
          "name": "stdout",
          "text": [
            "--2023-01-07 03:53:50--  https://raw.githubusercontent.com/Jcharis/pyspark-tutorials/main/Text_Classification_with_PySpark/data/udemy_courses_clean.csv\n",
            "Resolving raw.githubusercontent.com (raw.githubusercontent.com)... 185.199.108.133, 185.199.110.133, 185.199.109.133, ...\n",
            "Connecting to raw.githubusercontent.com (raw.githubusercontent.com)|185.199.108.133|:443... connected.\n",
            "HTTP request sent, awaiting response... 200 OK\n",
            "Length: 870036 (850K) [text/plain]\n",
            "Saving to: ‘udemy_courses_clean.csv’\n",
            "\n",
            "udemy_courses_clean 100%[===================>] 849.64K  --.-KB/s    in 0.05s   \n",
            "\n",
            "2023-01-07 03:53:51 (16.3 MB/s) - ‘udemy_courses_clean.csv’ saved [870036/870036]\n",
            "\n"
          ]
        }
      ]
    },
    {
      "cell_type": "markdown",
      "source": [
        "Load spark context"
      ],
      "metadata": {
        "id": "5wRm2iYmaKJR"
      }
    },
    {
      "cell_type": "code",
      "source": [
        "from pyspark import SparkContext\n",
        "\n",
        "sc = SparkContext()"
      ],
      "metadata": {
        "colab": {
          "base_uri": "https://localhost:8080/",
          "height": 239
        },
        "id": "PG64Yr8zXQSe",
        "outputId": "761fdc0a-b748-48da-ce0c-d61a987e2d19"
      },
      "execution_count": null,
      "outputs": [
        {
          "output_type": "error",
          "ename": "ValueError",
          "evalue": "ignored",
          "traceback": [
            "\u001b[0;31m---------------------------------------------------------------------------\u001b[0m",
            "\u001b[0;31mValueError\u001b[0m                                Traceback (most recent call last)",
            "\u001b[0;32m<ipython-input-7-34b2114beefd>\u001b[0m in \u001b[0;36m<module>\u001b[0;34m\u001b[0m\n\u001b[1;32m      1\u001b[0m \u001b[0;32mfrom\u001b[0m \u001b[0mpyspark\u001b[0m \u001b[0;32mimport\u001b[0m \u001b[0mSparkContext\u001b[0m\u001b[0;34m\u001b[0m\u001b[0;34m\u001b[0m\u001b[0m\n\u001b[1;32m      2\u001b[0m \u001b[0;34m\u001b[0m\u001b[0m\n\u001b[0;32m----> 3\u001b[0;31m \u001b[0msc\u001b[0m \u001b[0;34m=\u001b[0m \u001b[0mSparkContext\u001b[0m\u001b[0;34m(\u001b[0m\u001b[0;34m)\u001b[0m\u001b[0;34m\u001b[0m\u001b[0;34m\u001b[0m\u001b[0m\n\u001b[0m",
            "\u001b[0;32m/usr/local/lib/python3.8/dist-packages/pyspark/context.py\u001b[0m in \u001b[0;36m__init__\u001b[0;34m(self, master, appName, sparkHome, pyFiles, environment, batchSize, serializer, conf, gateway, jsc, profiler_cls, udf_profiler_cls)\u001b[0m\n\u001b[1;32m    193\u001b[0m             )\n\u001b[1;32m    194\u001b[0m \u001b[0;34m\u001b[0m\u001b[0m\n\u001b[0;32m--> 195\u001b[0;31m         \u001b[0mSparkContext\u001b[0m\u001b[0;34m.\u001b[0m\u001b[0m_ensure_initialized\u001b[0m\u001b[0;34m(\u001b[0m\u001b[0mself\u001b[0m\u001b[0;34m,\u001b[0m \u001b[0mgateway\u001b[0m\u001b[0;34m=\u001b[0m\u001b[0mgateway\u001b[0m\u001b[0;34m,\u001b[0m \u001b[0mconf\u001b[0m\u001b[0;34m=\u001b[0m\u001b[0mconf\u001b[0m\u001b[0;34m)\u001b[0m\u001b[0;34m\u001b[0m\u001b[0;34m\u001b[0m\u001b[0m\n\u001b[0m\u001b[1;32m    196\u001b[0m         \u001b[0;32mtry\u001b[0m\u001b[0;34m:\u001b[0m\u001b[0;34m\u001b[0m\u001b[0;34m\u001b[0m\u001b[0m\n\u001b[1;32m    197\u001b[0m             self._do_init(\n",
            "\u001b[0;32m/usr/local/lib/python3.8/dist-packages/pyspark/context.py\u001b[0m in \u001b[0;36m_ensure_initialized\u001b[0;34m(cls, instance, gateway, conf)\u001b[0m\n\u001b[1;32m    428\u001b[0m \u001b[0;34m\u001b[0m\u001b[0m\n\u001b[1;32m    429\u001b[0m                     \u001b[0;31m# Raise error if there is already a running Spark context\u001b[0m\u001b[0;34m\u001b[0m\u001b[0;34m\u001b[0m\u001b[0;34m\u001b[0m\u001b[0m\n\u001b[0;32m--> 430\u001b[0;31m                     raise ValueError(\n\u001b[0m\u001b[1;32m    431\u001b[0m                         \u001b[0;34m\"Cannot run multiple SparkContexts at once; \"\u001b[0m\u001b[0;34m\u001b[0m\u001b[0;34m\u001b[0m\u001b[0m\n\u001b[1;32m    432\u001b[0m                         \u001b[0;34m\"existing SparkContext(app=%s, master=%s)\"\u001b[0m\u001b[0;34m\u001b[0m\u001b[0;34m\u001b[0m\u001b[0m\n",
            "\u001b[0;31mValueError\u001b[0m: Cannot run multiple SparkContexts at once; existing SparkContext(app=pyspark-shell, master=local[*]) created by __init__ at <ipython-input-4-34b2114beefd>:3 "
          ]
        }
      ]
    },
    {
      "cell_type": "code",
      "source": [
        "# Load UI\n",
        "sc"
      ],
      "metadata": {
        "colab": {
          "base_uri": "https://localhost:8080/",
          "height": 193
        },
        "id": "kX_1IYC2aTtz",
        "outputId": "04d70ccf-f309-4113-dfec-0001bf3e7d0f"
      },
      "execution_count": null,
      "outputs": [
        {
          "output_type": "execute_result",
          "data": {
            "text/plain": [
              "<SparkContext master=local[*] appName=pyspark-shell>"
            ],
            "text/html": [
              "\n",
              "        <div>\n",
              "            <p><b>SparkContext</b></p>\n",
              "\n",
              "            <p><a href=\"http://c4008aca2c0d:4040\">Spark UI</a></p>\n",
              "\n",
              "            <dl>\n",
              "              <dt>Version</dt>\n",
              "                <dd><code>v3.3.1</code></dd>\n",
              "              <dt>Master</dt>\n",
              "                <dd><code>local[*]</code></dd>\n",
              "              <dt>AppName</dt>\n",
              "                <dd><code>pyspark-shell</code></dd>\n",
              "            </dl>\n",
              "        </div>\n",
              "        "
            ]
          },
          "metadata": {},
          "execution_count": 8
        }
      ]
    },
    {
      "cell_type": "code",
      "source": [
        "from pyspark.sql import SparkSession"
      ],
      "metadata": {
        "id": "7qxtvq7eaWEO"
      },
      "execution_count": null,
      "outputs": []
    },
    {
      "cell_type": "code",
      "source": [
        "spark = SparkSession.builder.appName(\"text_classifier\").getOrCreate()"
      ],
      "metadata": {
        "id": "w6gUAV6CantB"
      },
      "execution_count": null,
      "outputs": []
    },
    {
      "cell_type": "code",
      "source": [
        "# Load dataset\n",
        "df = spark.read.csv('udemy_courses_clean.csv', header=True, inferSchema=True)"
      ],
      "metadata": {
        "id": "jv48g0HsawII"
      },
      "execution_count": null,
      "outputs": []
    },
    {
      "cell_type": "code",
      "source": [
        "df.show(5)"
      ],
      "metadata": {
        "colab": {
          "base_uri": "https://localhost:8080/"
        },
        "id": "pt0tIeKka4H1",
        "outputId": "c6424da9-7389-4fd4-f373-6050ad96e7d5"
      },
      "execution_count": null,
      "outputs": [
        {
          "output_type": "stream",
          "name": "stdout",
          "text": [
            "+---+---------+--------------------+--------------------+-------+-----+---------------+-----------+------------+------------------+----------------+--------------------+----------------+--------------------+\n",
            "|_c0|course_id|        course_title|                 url|is_paid|price|num_subscribers|num_reviews|num_lectures|             level|content_duration| published_timestamp|         subject|  clean_course_title|\n",
            "+---+---------+--------------------+--------------------+-------+-----+---------------+-----------+------------+------------------+----------------+--------------------+----------------+--------------------+\n",
            "|  0|  1070968|Ultimate Investme...|https://www.udemy...|   True|  200|           2147|         23|          51|        All Levels|       1.5 hours|2017-01-18T20:58:58Z|Business Finance|Ultimate Investme...|\n",
            "|  1|  1113822|Complete GST Cour...|https://www.udemy...|   True|   75|           2792|        923|         274|        All Levels|        39 hours|2017-03-09T16:34:20Z|Business Finance|Complete GST Cour...|\n",
            "|  2|  1006314|Financial Modelin...|https://www.udemy...|   True|   45|           2174|         74|          51|Intermediate Level|       2.5 hours|2016-12-19T19:26:30Z|Business Finance|Financial Modelin...|\n",
            "|  3|  1210588|Beginner to Pro -...|https://www.udemy...|   True|   95|           2451|         11|          36|        All Levels|         3 hours|2017-05-30T20:07:24Z|Business Finance|Beginner Pro  Fin...|\n",
            "|  4|  1011058|How To Maximize Y...|https://www.udemy...|   True|  200|           1276|         45|          26|Intermediate Level|         2 hours|2016-12-13T14:57:18Z|Business Finance|Maximize Profits ...|\n",
            "+---+---------+--------------------+--------------------+-------+-----+---------------+-----------+------------+------------------+----------------+--------------------+----------------+--------------------+\n",
            "only showing top 5 rows\n",
            "\n"
          ]
        }
      ]
    },
    {
      "cell_type": "markdown",
      "source": [
        "## Data Selection"
      ],
      "metadata": {
        "id": "jn5QUvfZeWLH"
      }
    },
    {
      "cell_type": "code",
      "source": [
        "# show selected columns\n",
        "select_cols = df.select('course_title', 'subject')"
      ],
      "metadata": {
        "id": "BS8d3OjHbAkq"
      },
      "execution_count": null,
      "outputs": []
    },
    {
      "cell_type": "code",
      "source": [
        "select_cols.show(5)"
      ],
      "metadata": {
        "colab": {
          "base_uri": "https://localhost:8080/"
        },
        "id": "frzBoq4TbGIs",
        "outputId": "ec53091a-2b92-4575-e536-b2845f8fdad7"
      },
      "execution_count": null,
      "outputs": [
        {
          "output_type": "stream",
          "name": "stdout",
          "text": [
            "+--------------------+----------------+\n",
            "|        course_title|         subject|\n",
            "+--------------------+----------------+\n",
            "|Ultimate Investme...|Business Finance|\n",
            "|Complete GST Cour...|Business Finance|\n",
            "|Financial Modelin...|Business Finance|\n",
            "|Beginner to Pro -...|Business Finance|\n",
            "|How To Maximize Y...|Business Finance|\n",
            "+--------------------+----------------+\n",
            "only showing top 5 rows\n",
            "\n"
          ]
        }
      ]
    },
    {
      "cell_type": "code",
      "source": [
        "# Count distinct values\n",
        "select_cols.groupBy('subject').count().show()"
      ],
      "metadata": {
        "colab": {
          "base_uri": "https://localhost:8080/"
        },
        "id": "88BqQhsgdFtN",
        "outputId": "7bdadc2c-7bd3-4bf6-fb15-526fb39e8799"
      },
      "execution_count": null,
      "outputs": [
        {
          "output_type": "stream",
          "name": "stdout",
          "text": [
            "+--------------------+-----+\n",
            "|             subject|count|\n",
            "+--------------------+-----+\n",
            "|play Electric Gui...|    1|\n",
            "|Multiply returns ...|    1|\n",
            "|                null|    6|\n",
            "|    Business Finance| 1198|\n",
            "|Introduction Guit...|    1|\n",
            "|Learn Play Fernan...|    1|\n",
            "|      Graphic Design|  603|\n",
            "|Aprende tocar el ...|    1|\n",
            "|     Web Development| 1200|\n",
            "|Learn Classical G...|    1|\n",
            "| Musical Instruments|  676|\n",
            "+--------------------+-----+\n",
            "\n"
          ]
        }
      ]
    },
    {
      "cell_type": "code",
      "source": [
        "# Count distinct values via Pandas\n",
        "select_cols.toPandas()['subject'].value_counts()"
      ],
      "metadata": {
        "colab": {
          "base_uri": "https://localhost:8080/"
        },
        "id": "maxJbto0dODj",
        "outputId": "771857e5-fee9-41d6-9f4e-7866fc56f029"
      },
      "execution_count": null,
      "outputs": [
        {
          "output_type": "execute_result",
          "data": {
            "text/plain": [
              "Web Development                                                                                                                                                                                              1200\n",
              "Business Finance                                                                                                                                                                                             1198\n",
              "Musical Instruments                                                                                                                                                                                           676\n",
              "Graphic Design                                                                                                                                                                                                603\n",
              "Multiply returns Value Investinghttpswwwudemycommultiplyyourreturnsusingvalueinvestingtrue2019421963All Levels45 hours20150723T000833Z 874284Weekly Forex Analysis Baraq FX                                     1\n",
              "Learn Play Fernando Sors Study B minorhttpswwwudemycomstudyinbminortrue115140359Intermediate Level43 mins20140127T205816Z 398746Piano Chord Based System  Learn Play Pros Do                                    1\n",
              "play Electric Guitarhttpswwwudemycomelectricguitarbeginnersmethodtrue501105520Beginner Level2 hours20161229T002406Z 42038Learn Piano Today Play Piano Course Quick Lessons                                      1\n",
              "Learn Classical Guitar Technique play Spanish Romancehttpswwwudemycomguitartechniquestrue19513164643All Levels5 hours20131118T175959Z 265888Learn Guitar Worship Learn 4 Songs unlock 1                         1\n",
              "Introduction Guitar A Course Beginnershttpswwwudemycomintroductiontoguitartrue251631156Beginner Level25 hours20141030T155939Z 650804Guitar Master Class Learning Play Guitar Z                                  1\n",
              "Aprende tocar el Acorden de odo con tcnicahttpswwwudemycomaprendeatocarelacordeondeoidoycontecnicatrue25932134Beginner Level4 hours20140916T195145Z 263432Aprende los Secretos de la Armnica con HARPSOUL       1\n",
              "Name: subject, dtype: int64"
            ]
          },
          "metadata": {},
          "execution_count": 22
        }
      ]
    },
    {
      "cell_type": "code",
      "source": [
        "# Check for missing values\n",
        "select_cols.toPandas()['subject'].isna().sum()"
      ],
      "metadata": {
        "colab": {
          "base_uri": "https://localhost:8080/"
        },
        "id": "TQFYXzkEdZ3C",
        "outputId": "47f43e08-b3b3-4602-b05d-f670e3c98a3e"
      },
      "execution_count": null,
      "outputs": [
        {
          "output_type": "execute_result",
          "data": {
            "text/plain": [
              "6"
            ]
          },
          "metadata": {},
          "execution_count": 25
        }
      ]
    },
    {
      "cell_type": "code",
      "source": [
        "# Drop missing values\n",
        "select_cols = select_cols.dropna(subset=('subject'))"
      ],
      "metadata": {
        "id": "bVMKdnmQdu1m"
      },
      "execution_count": null,
      "outputs": []
    },
    {
      "cell_type": "code",
      "source": [
        "select_cols.toPandas()['subject'].isna().sum()"
      ],
      "metadata": {
        "colab": {
          "base_uri": "https://localhost:8080/"
        },
        "id": "_QjGSFO-d9Sk",
        "outputId": "2cbce903-c8ef-428c-9a5c-cddb1e9b8f44"
      },
      "execution_count": null,
      "outputs": [
        {
          "output_type": "execute_result",
          "data": {
            "text/plain": [
              "0"
            ]
          },
          "metadata": {},
          "execution_count": 28
        }
      ]
    },
    {
      "cell_type": "code",
      "source": [
        "select_cols.show(5)"
      ],
      "metadata": {
        "colab": {
          "base_uri": "https://localhost:8080/"
        },
        "id": "afALoGy8eElT",
        "outputId": "ac49dbc2-b765-4c04-e3fc-94dee08a6ab5"
      },
      "execution_count": null,
      "outputs": [
        {
          "output_type": "stream",
          "name": "stdout",
          "text": [
            "+--------------------+----------------+\n",
            "|        course_title|         subject|\n",
            "+--------------------+----------------+\n",
            "|Ultimate Investme...|Business Finance|\n",
            "|Complete GST Cour...|Business Finance|\n",
            "|Financial Modelin...|Business Finance|\n",
            "|Beginner to Pro -...|Business Finance|\n",
            "|How To Maximize Y...|Business Finance|\n",
            "+--------------------+----------------+\n",
            "only showing top 5 rows\n",
            "\n"
          ]
        }
      ]
    },
    {
      "cell_type": "markdown",
      "source": [
        "## Feature Extraction\n",
        "\n",
        "+ CountVectorizer\n",
        "+ TFIDF\n",
        "+ WordEmbedding\n",
        "+ HashingTF"
      ],
      "metadata": {
        "id": "qN3aHhyueILW"
      }
    },
    {
      "cell_type": "code",
      "source": [
        "import pyspark.ml.feature"
      ],
      "metadata": {
        "id": "siYLvAb-eGnc"
      },
      "execution_count": null,
      "outputs": []
    },
    {
      "cell_type": "code",
      "source": [
        "dir(pyspark.ml.feature)"
      ],
      "metadata": {
        "colab": {
          "base_uri": "https://localhost:8080/"
        },
        "id": "jSkBWg06eeLb",
        "outputId": "6a60969f-b664-4ae5-9827-7f1f58fbd712"
      },
      "execution_count": null,
      "outputs": [
        {
          "output_type": "execute_result",
          "data": {
            "text/plain": [
              "['Any',\n",
              " 'Binarizer',\n",
              " 'BucketedRandomProjectionLSH',\n",
              " 'BucketedRandomProjectionLSHModel',\n",
              " 'Bucketizer',\n",
              " 'ChiSqSelector',\n",
              " 'ChiSqSelectorModel',\n",
              " 'CountVectorizer',\n",
              " 'CountVectorizerModel',\n",
              " 'DCT',\n",
              " 'DataFrame',\n",
              " 'DenseMatrix',\n",
              " 'DenseVector',\n",
              " 'Dict',\n",
              " 'ElementwiseProduct',\n",
              " 'FeatureHasher',\n",
              " 'Generic',\n",
              " 'HasFeaturesCol',\n",
              " 'HasHandleInvalid',\n",
              " 'HasInputCol',\n",
              " 'HasInputCols',\n",
              " 'HasLabelCol',\n",
              " 'HasMaxIter',\n",
              " 'HasNumFeatures',\n",
              " 'HasOutputCol',\n",
              " 'HasOutputCols',\n",
              " 'HasRelativeError',\n",
              " 'HasSeed',\n",
              " 'HasStepSize',\n",
              " 'HasThreshold',\n",
              " 'HasThresholds',\n",
              " 'HashingTF',\n",
              " 'IDF',\n",
              " 'IDFModel',\n",
              " 'Imputer',\n",
              " 'ImputerModel',\n",
              " 'IndexToString',\n",
              " 'Interaction',\n",
              " 'JM',\n",
              " 'JavaEstimator',\n",
              " 'JavaMLReadable',\n",
              " 'JavaMLWritable',\n",
              " 'JavaModel',\n",
              " 'JavaParams',\n",
              " 'JavaTransformer',\n",
              " 'List',\n",
              " 'MaxAbsScaler',\n",
              " 'MaxAbsScalerModel',\n",
              " 'MinHashLSH',\n",
              " 'MinHashLSHModel',\n",
              " 'MinMaxScaler',\n",
              " 'MinMaxScalerModel',\n",
              " 'NGram',\n",
              " 'Normalizer',\n",
              " 'OneHotEncoder',\n",
              " 'OneHotEncoderModel',\n",
              " 'Optional',\n",
              " 'P',\n",
              " 'PCA',\n",
              " 'PCAModel',\n",
              " 'Param',\n",
              " 'Params',\n",
              " 'PolynomialExpansion',\n",
              " 'QuantileDiscretizer',\n",
              " 'RFormula',\n",
              " 'RFormulaModel',\n",
              " 'RegexTokenizer',\n",
              " 'RobustScaler',\n",
              " 'RobustScalerModel',\n",
              " 'SQLTransformer',\n",
              " 'SparkContext',\n",
              " 'StandardScaler',\n",
              " 'StandardScalerModel',\n",
              " 'StopWordsRemover',\n",
              " 'StringIndexer',\n",
              " 'StringIndexerModel',\n",
              " 'TYPE_CHECKING',\n",
              " 'Tokenizer',\n",
              " 'Tuple',\n",
              " 'TypeConverters',\n",
              " 'TypeVar',\n",
              " 'Union',\n",
              " 'UnivariateFeatureSelector',\n",
              " 'UnivariateFeatureSelectorModel',\n",
              " 'VarianceThresholdSelector',\n",
              " 'VarianceThresholdSelectorModel',\n",
              " 'Vector',\n",
              " 'VectorAssembler',\n",
              " 'VectorIndexer',\n",
              " 'VectorIndexerModel',\n",
              " 'VectorSizeHint',\n",
              " 'VectorSlicer',\n",
              " 'Word2Vec',\n",
              " 'Word2VecModel',\n",
              " '_BucketedRandomProjectionLSHParams',\n",
              " '_CountVectorizerParams',\n",
              " '_IDFParams',\n",
              " '_ImputerParams',\n",
              " '_LSH',\n",
              " '_LSHModel',\n",
              " '_LSHParams',\n",
              " '_MaxAbsScalerParams',\n",
              " '_MinMaxScalerParams',\n",
              " '_OneHotEncoderParams',\n",
              " '_PCAParams',\n",
              " '_RFormulaParams',\n",
              " '_RobustScalerParams',\n",
              " '_Selector',\n",
              " '_SelectorModel',\n",
              " '_SelectorParams',\n",
              " '_StandardScalerParams',\n",
              " '_StringIndexerParams',\n",
              " '_UnivariateFeatureSelectorParams',\n",
              " '_VarianceThresholdSelectorParams',\n",
              " '_VectorIndexerParams',\n",
              " '_Word2VecParams',\n",
              " '__all__',\n",
              " '__builtins__',\n",
              " '__cached__',\n",
              " '__doc__',\n",
              " '__file__',\n",
              " '__loader__',\n",
              " '__name__',\n",
              " '__package__',\n",
              " '__spec__',\n",
              " '_convert_to_vector',\n",
              " '_jvm',\n",
              " 'cast',\n",
              " 'inherit_doc',\n",
              " 'keyword_only',\n",
              " 'overload',\n",
              " 'since']"
            ]
          },
          "metadata": {},
          "execution_count": 31
        }
      ]
    },
    {
      "cell_type": "code",
      "source": [
        "# Load transformers\n",
        "from pyspark.ml.feature import Tokenizer, StopWordsRemover, CountVectorizer, IDF\n",
        "from pyspark.ml.feature import StringIndexer"
      ],
      "metadata": {
        "id": "Ue-DaLWYef4n"
      },
      "execution_count": null,
      "outputs": []
    },
    {
      "cell_type": "code",
      "source": [
        "select_cols.show(5)"
      ],
      "metadata": {
        "colab": {
          "base_uri": "https://localhost:8080/"
        },
        "id": "PmfK6ciWe0pX",
        "outputId": "4e42afc7-7ea2-4e7d-81e6-3c5a0f2af44d"
      },
      "execution_count": null,
      "outputs": [
        {
          "output_type": "stream",
          "name": "stdout",
          "text": [
            "+--------------------+----------------+\n",
            "|        course_title|         subject|\n",
            "+--------------------+----------------+\n",
            "|Ultimate Investme...|Business Finance|\n",
            "|Complete GST Cour...|Business Finance|\n",
            "|Financial Modelin...|Business Finance|\n",
            "|Beginner to Pro -...|Business Finance|\n",
            "|How To Maximize Y...|Business Finance|\n",
            "+--------------------+----------------+\n",
            "only showing top 5 rows\n",
            "\n"
          ]
        }
      ]
    },
    {
      "cell_type": "code",
      "source": [
        "# Stages for pipeline\n",
        "tokenizer = Tokenizer(inputCol='course_title', outputCol='course_tokens')\n",
        "stopword_remover = StopWordsRemover(inputCol='course_tokens', outputCol='filtered_tokens')\n",
        "counter_vectorizer = CountVectorizer(inputCol='filtered_tokens', outputCol='raw_features')\n",
        "idf = IDF(inputCol='raw_features', outputCol='vectorized_features')"
      ],
      "metadata": {
        "id": "9Uc3D0wEe4QY"
      },
      "execution_count": null,
      "outputs": []
    },
    {
      "cell_type": "code",
      "source": [
        "# LabelEncoding/LabelIndexing\n",
        "labelEncoder = StringIndexer(inputCol='subject', outputCol='label').fit(select_cols)"
      ],
      "metadata": {
        "id": "whTD-D-zfhs9"
      },
      "execution_count": null,
      "outputs": []
    },
    {
      "cell_type": "code",
      "source": [
        "labelEncoder.transform(select_cols).show(5)"
      ],
      "metadata": {
        "colab": {
          "base_uri": "https://localhost:8080/"
        },
        "id": "nk12sVUcfs68",
        "outputId": "37efa94f-206c-4598-ac7f-819da129278b"
      },
      "execution_count": null,
      "outputs": [
        {
          "output_type": "stream",
          "name": "stdout",
          "text": [
            "+--------------------+----------------+-----+\n",
            "|        course_title|         subject|label|\n",
            "+--------------------+----------------+-----+\n",
            "|Ultimate Investme...|Business Finance|  1.0|\n",
            "|Complete GST Cour...|Business Finance|  1.0|\n",
            "|Financial Modelin...|Business Finance|  1.0|\n",
            "|Beginner to Pro -...|Business Finance|  1.0|\n",
            "|How To Maximize Y...|Business Finance|  1.0|\n",
            "+--------------------+----------------+-----+\n",
            "only showing top 5 rows\n",
            "\n"
          ]
        }
      ]
    },
    {
      "cell_type": "code",
      "source": [
        "labelEncoder.labels"
      ],
      "metadata": {
        "colab": {
          "base_uri": "https://localhost:8080/"
        },
        "id": "OPshE2ZCfx0G",
        "outputId": "47bb750f-30ad-4150-8d15-d859fcdfbeb1"
      },
      "execution_count": null,
      "outputs": [
        {
          "output_type": "execute_result",
          "data": {
            "text/plain": [
              "['Web Development',\n",
              " 'Business Finance',\n",
              " 'Musical Instruments',\n",
              " 'Graphic Design',\n",
              " 'Aprende tocar el Acorden de odo con tcnicahttpswwwudemycomaprendeatocarelacordeondeoidoycontecnicatrue25932134Beginner Level4 hours20140916T195145Z 263432Aprende los Secretos de la Armnica con HARPSOUL',\n",
              " 'Introduction Guitar A Course Beginnershttpswwwudemycomintroductiontoguitartrue251631156Beginner Level25 hours20141030T155939Z 650804Guitar Master Class Learning Play Guitar Z',\n",
              " 'Learn Classical Guitar Technique play Spanish Romancehttpswwwudemycomguitartechniquestrue19513164643All Levels5 hours20131118T175959Z 265888Learn Guitar Worship Learn 4 Songs unlock 1',\n",
              " 'Learn Play Fernando Sors Study B minorhttpswwwudemycomstudyinbminortrue115140359Intermediate Level43 mins20140127T205816Z 398746Piano Chord Based System  Learn Play Pros Do',\n",
              " 'Multiply returns Value Investinghttpswwwudemycommultiplyyourreturnsusingvalueinvestingtrue2019421963All Levels45 hours20150723T000833Z 874284Weekly Forex Analysis Baraq FX',\n",
              " 'play Electric Guitarhttpswwwudemycomelectricguitarbeginnersmethodtrue501105520Beginner Level2 hours20161229T002406Z 42038Learn Piano Today Play Piano Course Quick Lessons']"
            ]
          },
          "metadata": {},
          "execution_count": 41
        }
      ]
    },
    {
      "cell_type": "code",
      "source": [
        "label_dict = {\n",
        "  'Web Development': 0,\n",
        " 'Business Finance': 1,\n",
        " 'Musical Instruments': 2,\n",
        " 'Graphic Design': 3\n",
        "}"
      ],
      "metadata": {
        "id": "jQsc6q_6f51n"
      },
      "execution_count": null,
      "outputs": []
    },
    {
      "cell_type": "code",
      "source": [
        "transformed_df = labelEncoder.transform(select_cols)\n",
        "transformed_df.show(5)"
      ],
      "metadata": {
        "colab": {
          "base_uri": "https://localhost:8080/"
        },
        "id": "Veh1B-FSgH6J",
        "outputId": "3a3746d5-3569-4209-a956-1f94c5bddf73"
      },
      "execution_count": null,
      "outputs": [
        {
          "output_type": "stream",
          "name": "stdout",
          "text": [
            "+--------------------+----------------+-----+\n",
            "|        course_title|         subject|label|\n",
            "+--------------------+----------------+-----+\n",
            "|Ultimate Investme...|Business Finance|  1.0|\n",
            "|Complete GST Cour...|Business Finance|  1.0|\n",
            "|Financial Modelin...|Business Finance|  1.0|\n",
            "|Beginner to Pro -...|Business Finance|  1.0|\n",
            "|How To Maximize Y...|Business Finance|  1.0|\n",
            "+--------------------+----------------+-----+\n",
            "only showing top 5 rows\n",
            "\n"
          ]
        }
      ]
    },
    {
      "cell_type": "markdown",
      "source": [
        "## Split dataset"
      ],
      "metadata": {
        "id": "iIGeFxSRgZO-"
      }
    },
    {
      "cell_type": "code",
      "source": [
        "trainSet, testSet = transformed_df.randomSplit((0.7, 0.3), seed=42)"
      ],
      "metadata": {
        "id": "hzuckyQqgWOw"
      },
      "execution_count": null,
      "outputs": []
    },
    {
      "cell_type": "code",
      "source": [
        "trainSet.show(10)"
      ],
      "metadata": {
        "colab": {
          "base_uri": "https://localhost:8080/"
        },
        "id": "ARWVgd4pgkDa",
        "outputId": "9dce1f4c-6c97-4efe-f3e7-3e1c7f023f27"
      },
      "execution_count": null,
      "outputs": [
        {
          "output_type": "stream",
          "name": "stdout",
          "text": [
            "+--------------------+--------------------+-----+\n",
            "|        course_title|             subject|label|\n",
            "+--------------------+--------------------+-----+\n",
            "|#1 Piano Hand Coo...| Musical Instruments|  2.0|\n",
            "|#10 Hand Coordina...| Musical Instruments|  2.0|\n",
            "|#4 Piano Hand Coo...| Musical Instruments|  2.0|\n",
            "|#5  Piano Hand Co...| Musical Instruments|  2.0|\n",
            "|#6 Piano Hand Coo...| Musical Instruments|  2.0|\n",
            "|'Geometry Of Chan...|    Business Finance|  1.0|\n",
            "|              000!\"\"|Learn Classical G...|  6.0|\n",
            "|1 - Concepts of S...|    Business Finance|  1.0|\n",
            "|          1 Hour CSS|     Web Development|  0.0|\n",
            "|1. Principles of ...|    Business Finance|  1.0|\n",
            "+--------------------+--------------------+-----+\n",
            "only showing top 10 rows\n",
            "\n"
          ]
        }
      ]
    },
    {
      "cell_type": "markdown",
      "source": [
        "## Model Selection"
      ],
      "metadata": {
        "id": "9uOdmMtygwqo"
      }
    },
    {
      "cell_type": "code",
      "source": [
        "# Estimator\n",
        "from pyspark.ml.classification import LogisticRegression"
      ],
      "metadata": {
        "id": "GsAtQkMAgoj-"
      },
      "execution_count": null,
      "outputs": []
    },
    {
      "cell_type": "code",
      "source": [
        "lr = LogisticRegression(featuresCol='vectorized_features', labelCol='label')"
      ],
      "metadata": {
        "id": "_LgZpn8Ag3na"
      },
      "execution_count": null,
      "outputs": []
    },
    {
      "cell_type": "markdown",
      "source": [
        "## Build the pipeline"
      ],
      "metadata": {
        "id": "JMidm7ushIcq"
      }
    },
    {
      "cell_type": "code",
      "source": [
        "from pyspark.ml import Pipeline"
      ],
      "metadata": {
        "id": "--JLzFw3hDei"
      },
      "execution_count": null,
      "outputs": []
    },
    {
      "cell_type": "code",
      "source": [
        "pipeline = Pipeline(stages=[tokenizer, stopword_remover, counter_vectorizer, idf, lr])"
      ],
      "metadata": {
        "id": "qq8D-nG6hMjg"
      },
      "execution_count": null,
      "outputs": []
    },
    {
      "cell_type": "code",
      "source": [
        "pipeline.stages"
      ],
      "metadata": {
        "colab": {
          "base_uri": "https://localhost:8080/"
        },
        "id": "QoN56E5wheU2",
        "outputId": "8029a531-fc23-4eca-a632-6e1146ff4e85"
      },
      "execution_count": null,
      "outputs": [
        {
          "output_type": "execute_result",
          "data": {
            "text/plain": [
              "Param(parent='Pipeline_3a1205232736', name='stages', doc='a list of pipeline stages')"
            ]
          },
          "metadata": {},
          "execution_count": 52
        }
      ]
    },
    {
      "cell_type": "code",
      "source": [
        "lr_model = pipeline.fit(trainSet)"
      ],
      "metadata": {
        "id": "UuZ5Lf2lhfSm"
      },
      "execution_count": null,
      "outputs": []
    },
    {
      "cell_type": "markdown",
      "source": [
        "## Validation"
      ],
      "metadata": {
        "id": "fesIqEBxhyR5"
      }
    },
    {
      "cell_type": "code",
      "source": [
        "predictions = lr_model.transform(testSet)"
      ],
      "metadata": {
        "id": "aeANBIz3hjAi"
      },
      "execution_count": null,
      "outputs": []
    },
    {
      "cell_type": "code",
      "source": [
        "predictions.show(5)"
      ],
      "metadata": {
        "colab": {
          "base_uri": "https://localhost:8080/"
        },
        "id": "qfanLRPbh2rI",
        "outputId": "944ff427-970b-4acb-e0e8-30f90233afcf"
      },
      "execution_count": null,
      "outputs": [
        {
          "output_type": "stream",
          "name": "stdout",
          "text": [
            "+--------------------+-------------------+-----+--------------------+--------------------+--------------------+--------------------+--------------------+--------------------+----------+\n",
            "|        course_title|            subject|label|       course_tokens|     filtered_tokens|        raw_features| vectorized_features|       rawPrediction|         probability|prediction|\n",
            "+--------------------+-------------------+-----+--------------------+--------------------+--------------------+--------------------+--------------------+--------------------+----------+\n",
            "|#12 Hand Coordina...|Musical Instruments|  2.0|[#12, hand, coord...|[#12, hand, coord...|(3670,[394,491,60...|(3670,[394,491,60...|[5.54102656947194...|[0.28268355866992...|       2.0|\n",
            "|#7 Piano Hand Coo...|Musical Instruments|  2.0|[#7, piano, hand,...|[#7, piano, hand,...|(3670,[9,13,60,23...|(3670,[9,13,60,23...|[-6.0823322866493...|[1.03215810564425...|       2.0|\n",
            "|'Greensleeves' Cr...|Musical Instruments|  2.0|['greensleeves', ...|['greensleeves', ...|(3670,[6,9,45,375...|(3670,[6,9,45,375...|[-1.0421312486143...|[1.23270090603942...|       2.0|\n",
            "|* An Integrated A...|   Business Finance|  1.0|[*, an, integrate...|[*, integrated, a...|(3670,[23,75,435,...|(3670,[23,75,435,...|[-2.8211817225605...|[4.77760520281109...|       1.0|\n",
            "|         1 Hour HTML|    Web Development|  0.0|     [1, hour, html]|     [1, hour, html]|(3670,[24,36,110]...|(3670,[24,36,110]...|[21.7088196969888...|[0.99999998997280...|       0.0|\n",
            "+--------------------+-------------------+-----+--------------------+--------------------+--------------------+--------------------+--------------------+--------------------+----------+\n",
            "only showing top 5 rows\n",
            "\n"
          ]
        }
      ]
    },
    {
      "cell_type": "code",
      "source": [
        "predictions.select('rawPrediction', 'probability', 'subject', 'label', 'prediction').show(10)"
      ],
      "metadata": {
        "colab": {
          "base_uri": "https://localhost:8080/"
        },
        "id": "9pTRIrtKh4zy",
        "outputId": "c9b9aa63-129e-4654-a22f-e8d7c6fe7ecf"
      },
      "execution_count": null,
      "outputs": [
        {
          "output_type": "stream",
          "name": "stdout",
          "text": [
            "+--------------------+--------------------+-------------------+-----+----------+\n",
            "|       rawPrediction|         probability|            subject|label|prediction|\n",
            "+--------------------+--------------------+-------------------+-----+----------+\n",
            "|[5.54102656947194...|[0.28268355866992...|Musical Instruments|  2.0|       2.0|\n",
            "|[-6.0823322866493...|[1.03215810564425...|Musical Instruments|  2.0|       2.0|\n",
            "|[-1.0421312486143...|[1.23270090603942...|Musical Instruments|  2.0|       2.0|\n",
            "|[-2.8211817225605...|[4.77760520281109...|   Business Finance|  1.0|       1.0|\n",
            "|[21.7088196969888...|[0.99999998997280...|    Web Development|  0.0|       0.0|\n",
            "|[20.0054038102897...|[0.99999996031555...|    Web Development|  0.0|       0.0|\n",
            "|[18.0923732272825...|[0.99999972290786...|    Web Development|  0.0|       0.0|\n",
            "|[-8.4472424738851...|[4.30624176482269...|Musical Instruments|  2.0|       2.0|\n",
            "|[-24.070755029931...|[7.95180521110234...|     Graphic Design|  3.0|       3.0|\n",
            "|[-6.0537484534720...|[8.42550616609558...|Musical Instruments|  2.0|       2.0|\n",
            "+--------------------+--------------------+-------------------+-----+----------+\n",
            "only showing top 10 rows\n",
            "\n"
          ]
        }
      ]
    },
    {
      "cell_type": "markdown",
      "source": [
        "## Model metrics\n",
        "\n",
        "+ Accuracy\n",
        "+ Precision\n",
        "+ Recall\n",
        "+ F1-score"
      ],
      "metadata": {
        "id": "ZVn1JM2cipMI"
      }
    },
    {
      "cell_type": "code",
      "source": [
        "from pyspark.ml.evaluation import MulticlassClassificationEvaluator"
      ],
      "metadata": {
        "id": "fE2xE9rhiiL2"
      },
      "execution_count": null,
      "outputs": []
    },
    {
      "cell_type": "code",
      "source": [
        "evaluator = MulticlassClassificationEvaluator(labelCol='label', predictionCol='prediction', metricName='accuracy')"
      ],
      "metadata": {
        "id": "qdjDrHiqi34C"
      },
      "execution_count": null,
      "outputs": []
    },
    {
      "cell_type": "code",
      "source": [
        "accuracy = evaluator.evaluate(predictions)\n",
        "accuracy"
      ],
      "metadata": {
        "colab": {
          "base_uri": "https://localhost:8080/"
        },
        "id": "W9KQ1kdajFEQ",
        "outputId": "42d89d3f-2555-4159-aa60-bbf9336e53d9"
      },
      "execution_count": null,
      "outputs": [
        {
          "output_type": "execute_result",
          "data": {
            "text/plain": [
              "0.9173003802281369"
            ]
          },
          "metadata": {},
          "execution_count": 64
        }
      ]
    },
    {
      "cell_type": "code",
      "source": [
        "from pyspark.mllib.evaluation import MulticlassMetrics"
      ],
      "metadata": {
        "id": "bxpl73GLjGdN"
      },
      "execution_count": null,
      "outputs": []
    },
    {
      "cell_type": "code",
      "source": [
        "lr_metric = MulticlassMetrics(predictions['label','prediction'].rdd)"
      ],
      "metadata": {
        "colab": {
          "base_uri": "https://localhost:8080/"
        },
        "id": "2pl3uKB6jhan",
        "outputId": "5fef6dea-4120-444d-82ba-502b3f00837d"
      },
      "execution_count": null,
      "outputs": [
        {
          "output_type": "stream",
          "name": "stderr",
          "text": [
            "/usr/local/lib/python3.8/dist-packages/pyspark/sql/context.py:157: FutureWarning: Deprecated in 3.0.0. Use SparkSession.builder.getOrCreate() instead.\n",
            "  warnings.warn(\n"
          ]
        }
      ]
    },
    {
      "cell_type": "code",
      "source": [
        "for label, idx in label_dict.items():\n",
        "  idx = float(idx)\n",
        "  print(f\"Metric for {label}\")\n",
        "  print(f\" accuracy: {lr_metric.accuracy}\\n recall: {lr_metric.recall(idx)}\\n precision: {lr_metric.precision(idx)}\\n f1-score: {lr_metric.fMeasure(idx)}\")\n",
        "  print(\"\\n\\n\")"
      ],
      "metadata": {
        "colab": {
          "base_uri": "https://localhost:8080/"
        },
        "id": "xSIW_GBnjutx",
        "outputId": "3a5b09fc-ec0e-4b73-b5bb-95c9a167b6f5"
      },
      "execution_count": null,
      "outputs": [
        {
          "output_type": "stream",
          "name": "stdout",
          "text": [
            "Metric for Web Development\n",
            " accuracy: 0.9173003802281369\n",
            " recall: 0.9331395348837209\n",
            " precision: 0.9553571428571429\n",
            " f1-score: 0.9441176470588235\n",
            "\n",
            "\n",
            "\n",
            "Metric for Business Finance\n",
            " accuracy: 0.9173003802281369\n",
            " recall: 0.8717948717948718\n",
            " precision: 0.9686609686609686\n",
            " f1-score: 0.9176788124156545\n",
            "\n",
            "\n",
            "\n",
            "Metric for Musical Instruments\n",
            " accuracy: 0.9173003802281369\n",
            " recall: 0.9512195121951219\n",
            " precision: 0.8764044943820225\n",
            " f1-score: 0.912280701754386\n",
            "\n",
            "\n",
            "\n",
            "Metric for Graphic Design\n",
            " accuracy: 0.9173003802281369\n",
            " recall: 0.961038961038961\n",
            " precision: 0.8\n",
            " f1-score: 0.873156342182891\n",
            "\n",
            "\n",
            "\n"
          ]
        }
      ]
    },
    {
      "cell_type": "markdown",
      "source": [
        "Confusion Matrix"
      ],
      "metadata": {
        "id": "W6I2Dz7-k1J8"
      }
    },
    {
      "cell_type": "code",
      "source": [
        "from sklearn.metrics import ConfusionMatrixDisplay, confusion_matrix"
      ],
      "metadata": {
        "id": "Kd-eryu0kEXH"
      },
      "execution_count": null,
      "outputs": []
    },
    {
      "cell_type": "code",
      "source": [
        "label = predictions.select('label')\n",
        "label_pd = label.toPandas()\n",
        "\n",
        "prediction = predictions.select('prediction')\n",
        "prediction_pd = prediction.toPandas()"
      ],
      "metadata": {
        "id": "zrLs5d5vk_d5"
      },
      "execution_count": null,
      "outputs": []
    },
    {
      "cell_type": "code",
      "source": [
        "cm = confusion_matrix(label_pd, prediction_pd)"
      ],
      "metadata": {
        "id": "aZuef_a7lnXe"
      },
      "execution_count": null,
      "outputs": []
    },
    {
      "cell_type": "code",
      "source": [
        "display_cm = ConfusionMatrixDisplay(cm, display_labels=label_dict)"
      ],
      "metadata": {
        "id": "-SZgXSiglT8R"
      },
      "execution_count": null,
      "outputs": []
    },
    {
      "cell_type": "code",
      "source": [
        "display_cm.plot()"
      ],
      "metadata": {
        "colab": {
          "base_uri": "https://localhost:8080/",
          "height": 296
        },
        "id": "gYAQ8QvSmYe3",
        "outputId": "54a8ff99-d0e0-4491-d2ff-f9ec1ed73913"
      },
      "execution_count": null,
      "outputs": [
        {
          "output_type": "execute_result",
          "data": {
            "text/plain": [
              "<sklearn.metrics._plot.confusion_matrix.ConfusionMatrixDisplay at 0x7fa7d8390dc0>"
            ]
          },
          "metadata": {},
          "execution_count": 104
        },
        {
          "output_type": "display_data",
          "data": {
            "text/plain": [
              "<Figure size 432x288 with 2 Axes>"
            ],
            "image/png": "[encoded data removed]"
          },
          "metadata": {
            "needs_background": "light"
          }
        }
      ]
    },
    {
      "cell_type": "code",
      "source": [
        "import warnings\n",
        "from sklearn.metrics import classification_report\n",
        "\n",
        "warnings.filterwarnings('ignore')"
      ],
      "metadata": {
        "id": "b3AIIY9tmk9v"
      },
      "execution_count": null,
      "outputs": []
    },
    {
      "cell_type": "code",
      "source": [
        "print(classification_report(label_pd, prediction_pd))"
      ],
      "metadata": {
        "colab": {
          "base_uri": "https://localhost:8080/"
        },
        "id": "srO9gBpEnC2e",
        "outputId": "4e4a6e0e-a377-434d-c52e-0bd92adf0b90"
      },
      "execution_count": null,
      "outputs": [
        {
          "output_type": "stream",
          "name": "stdout",
          "text": [
            "              precision    recall  f1-score   support\n",
            "\n",
            "         0.0       0.93      0.96      0.94       336\n",
            "         1.0       0.87      0.97      0.92       351\n",
            "         2.0       0.95      0.88      0.91       178\n",
            "         3.0       0.96      0.80      0.87       185\n",
            "         5.0       0.00      0.00      0.00         1\n",
            "         8.0       0.00      0.00      0.00         1\n",
            "\n",
            "    accuracy                           0.92      1052\n",
            "   macro avg       0.62      0.60      0.61      1052\n",
            "weighted avg       0.92      0.92      0.92      1052\n",
            "\n"
          ]
        }
      ]
    },
    {
      "cell_type": "markdown",
      "source": [
        "## Testing/Inferecing"
      ],
      "metadata": {
        "id": "e9NJm1K_nwvD"
      }
    },
    {
      "cell_type": "code",
      "source": [
        "from pyspark.sql.types import StringType"
      ],
      "metadata": {
        "id": "FPifGpSqnImb"
      },
      "execution_count": null,
      "outputs": []
    },
    {
      "cell_type": "code",
      "source": [
        "testDF = spark.createDataFrame([\n",
        "    (\"Bulding Machine Learning Apps with Pyspark\", StringType())\n",
        "    ],\n",
        "                               \n",
        "    # Column Name\n",
        "    [\"course_title\"]\n",
        "  )"
      ],
      "metadata": {
        "id": "fi8bXgm5nlFt"
      },
      "execution_count": null,
      "outputs": []
    },
    {
      "cell_type": "code",
      "source": [
        "testDF.show()"
      ],
      "metadata": {
        "colab": {
          "base_uri": "https://localhost:8080/"
        },
        "id": "a2WQ2ZVCoQw_",
        "outputId": "d8802111-ea30-43b5-de32-9117162b44c8"
      },
      "execution_count": null,
      "outputs": [
        {
          "output_type": "stream",
          "name": "stdout",
          "text": [
            "+--------------------+---+\n",
            "|        course_title| _2|\n",
            "+--------------------+---+\n",
            "|Bulding Machine L...| {}|\n",
            "+--------------------+---+\n",
            "\n"
          ]
        }
      ]
    },
    {
      "cell_type": "code",
      "source": [
        "testDF.show(truncate=False)"
      ],
      "metadata": {
        "colab": {
          "base_uri": "https://localhost:8080/"
        },
        "id": "_Cfj8eHZoS2i",
        "outputId": "6ac75cf2-0411-4201-ccd9-6a816a76f12a"
      },
      "execution_count": null,
      "outputs": [
        {
          "output_type": "stream",
          "name": "stdout",
          "text": [
            "+------------------------------------------+---+\n",
            "|course_title                              |_2 |\n",
            "+------------------------------------------+---+\n",
            "|Bulding Machine Learning Apps with Pyspark|{} |\n",
            "+------------------------------------------+---+\n",
            "\n"
          ]
        }
      ]
    },
    {
      "cell_type": "code",
      "source": [
        "test_pred = lr_model.transform(testDF)"
      ],
      "metadata": {
        "id": "DFKZ3jX-oahI"
      },
      "execution_count": null,
      "outputs": []
    },
    {
      "cell_type": "code",
      "source": [
        "test_pred.show()"
      ],
      "metadata": {
        "colab": {
          "base_uri": "https://localhost:8080/"
        },
        "id": "8LyXIUnWouOC",
        "outputId": "ca747b6a-58a8-4880-8868-a176c78aa5fe"
      },
      "execution_count": null,
      "outputs": [
        {
          "output_type": "stream",
          "name": "stdout",
          "text": [
            "+--------------------+---+--------------------+--------------------+--------------------+--------------------+--------------------+--------------------+----------+\n",
            "|        course_title| _2|       course_tokens|     filtered_tokens|        raw_features| vectorized_features|       rawPrediction|         probability|prediction|\n",
            "+--------------------+---+--------------------+--------------------+--------------------+--------------------+--------------------+--------------------+----------+\n",
            "|Bulding Machine L...| {}|[bulding, machine...|[bulding, machine...|(3670,[79,115],[1...|(3670,[79,115],[4...|[6.34471761689091...|[0.34863549919778...|       1.0|\n",
            "+--------------------+---+--------------------+--------------------+--------------------+--------------------+--------------------+--------------------+----------+\n",
            "\n"
          ]
        }
      ]
    },
    {
      "cell_type": "code",
      "source": [
        "test_pred.select('course_title', 'rawPrediction', 'probability', 'prediction').show()"
      ],
      "metadata": {
        "colab": {
          "base_uri": "https://localhost:8080/"
        },
        "id": "Ept5YdI2ovpC",
        "outputId": "c7756446-7c90-46f7-a4e4-6834afd6b841"
      },
      "execution_count": null,
      "outputs": [
        {
          "output_type": "stream",
          "name": "stdout",
          "text": [
            "+--------------------+--------------------+--------------------+----------+\n",
            "|        course_title|       rawPrediction|         probability|prediction|\n",
            "+--------------------+--------------------+--------------------+----------+\n",
            "|Bulding Machine L...|[6.34471761689091...|[0.34863549919778...|       1.0|\n",
            "+--------------------+--------------------+--------------------+----------+\n",
            "\n"
          ]
        }
      ]
    },
    {
      "cell_type": "markdown",
      "source": [
        "## Show Model"
      ],
      "metadata": {
        "id": "LcPX5EofpBmb"
      }
    },
    {
      "cell_type": "code",
      "source": [
        "!rm -rf model_1"
      ],
      "metadata": {
        "id": "6PqWc3lLqY3u"
      },
      "execution_count": null,
      "outputs": []
    },
    {
      "cell_type": "code",
      "source": [
        "model_path = 'model_1'\n",
        "lr_model.save(model_path)"
      ],
      "metadata": {
        "id": "wvEskniIo_Zh"
      },
      "execution_count": null,
      "outputs": []
    },
    {
      "cell_type": "markdown",
      "source": [
        "## Load Model"
      ],
      "metadata": {
        "id": "vsLcwIs0pRIZ"
      }
    },
    {
      "cell_type": "code",
      "source": [
        "from pyspark.ml.pipeline import PipelineModel\n",
        "\n",
        "persistedModel = PipelineModel.load(model_path)"
      ],
      "metadata": {
        "id": "HRNRkYLfpMqa"
      },
      "execution_count": null,
      "outputs": []
    },
    {
      "cell_type": "code",
      "source": [
        "persistedModel"
      ],
      "metadata": {
        "colab": {
          "base_uri": "https://localhost:8080/"
        },
        "id": "eWUJqim3qXIb",
        "outputId": "6b2aca30-a3cf-41f0-ffbf-d41e87ccf6f0"
      },
      "execution_count": null,
      "outputs": [
        {
          "output_type": "execute_result",
          "data": {
            "text/plain": [
              "PipelineModel_af887054d85e"
            ]
          },
          "metadata": {},
          "execution_count": 131
        }
      ]
    },
    {
      "cell_type": "code",
      "source": [
        "dir(persistedModel)"
      ],
      "metadata": {
        "colab": {
          "base_uri": "https://localhost:8080/"
        },
        "id": "Nf6ogID4qec_",
        "outputId": "51582b67-1560-4a13-e71a-1937d24b9cde"
      },
      "execution_count": null,
      "outputs": [
        {
          "output_type": "execute_result",
          "data": {
            "text/plain": [
              "['__abstractmethods__',\n",
              " '__class__',\n",
              " '__class_getitem__',\n",
              " '__delattr__',\n",
              " '__dict__',\n",
              " '__dir__',\n",
              " '__doc__',\n",
              " '__eq__',\n",
              " '__format__',\n",
              " '__ge__',\n",
              " '__getattribute__',\n",
              " '__gt__',\n",
              " '__hash__',\n",
              " '__init__',\n",
              " '__init_subclass__',\n",
              " '__le__',\n",
              " '__lt__',\n",
              " '__module__',\n",
              " '__ne__',\n",
              " '__new__',\n",
              " '__orig_bases__',\n",
              " '__parameters__',\n",
              " '__reduce__',\n",
              " '__reduce_ex__',\n",
              " '__repr__',\n",
              " '__setattr__',\n",
              " '__sizeof__',\n",
              " '__slots__',\n",
              " '__str__',\n",
              " '__subclasshook__',\n",
              " '__weakref__',\n",
              " '_abc_impl',\n",
              " '_copyValues',\n",
              " '_copy_params',\n",
              " '_defaultParamMap',\n",
              " '_dummy',\n",
              " '_from_java',\n",
              " '_is_protocol',\n",
              " '_paramMap',\n",
              " '_params',\n",
              " '_randomUID',\n",
              " '_resetUid',\n",
              " '_resolveParam',\n",
              " '_set',\n",
              " '_setDefault',\n",
              " '_shouldOwn',\n",
              " '_testOwnParam',\n",
              " '_to_java',\n",
              " '_transform',\n",
              " 'clear',\n",
              " 'copy',\n",
              " 'explainParam',\n",
              " 'explainParams',\n",
              " 'extractParamMap',\n",
              " 'getOrDefault',\n",
              " 'getParam',\n",
              " 'hasDefault',\n",
              " 'hasParam',\n",
              " 'isDefined',\n",
              " 'isSet',\n",
              " 'load',\n",
              " 'params',\n",
              " 'read',\n",
              " 'save',\n",
              " 'set',\n",
              " 'stages',\n",
              " 'transform',\n",
              " 'uid',\n",
              " 'write']"
            ]
          },
          "metadata": {},
          "execution_count": 132
        }
      ]
    },
    {
      "cell_type": "code",
      "source": [
        "pred = persistedModel.transform(testDF)"
      ],
      "metadata": {
        "id": "LC94pQV0qhLx"
      },
      "execution_count": null,
      "outputs": []
    },
    {
      "cell_type": "code",
      "source": [
        "pred.show()"
      ],
      "metadata": {
        "colab": {
          "base_uri": "https://localhost:8080/"
        },
        "id": "BJKnBBxJqrTr",
        "outputId": "59197256-6ca4-4303-ca8d-c0f7808371e5"
      },
      "execution_count": null,
      "outputs": [
        {
          "output_type": "stream",
          "name": "stdout",
          "text": [
            "+--------------------+---+--------------------+--------------------+--------------------+--------------------+--------------------+--------------------+----------+\n",
            "|        course_title| _2|       course_tokens|     filtered_tokens|        raw_features| vectorized_features|       rawPrediction|         probability|prediction|\n",
            "+--------------------+---+--------------------+--------------------+--------------------+--------------------+--------------------+--------------------+----------+\n",
            "|Bulding Machine L...| {}|[bulding, machine...|[bulding, machine...|(3670,[79,115],[1...|(3670,[79,115],[4...|[6.34471761689091...|[0.34863549919778...|       1.0|\n",
            "+--------------------+---+--------------------+--------------------+--------------------+--------------------+--------------------+--------------------+----------+\n",
            "\n"
          ]
        }
      ]
    },
    {
      "cell_type": "code",
      "source": [
        "pred.select('course_title', 'probability', 'prediction').show()"
      ],
      "metadata": {
        "colab": {
          "base_uri": "https://localhost:8080/"
        },
        "id": "vjEXnfprqvRs",
        "outputId": "8bb63aa3-2ae5-4aa9-c1ea-1c928816e60a"
      },
      "execution_count": null,
      "outputs": [
        {
          "output_type": "stream",
          "name": "stdout",
          "text": [
            "+--------------------+--------------------+----------+\n",
            "|        course_title|         probability|prediction|\n",
            "+--------------------+--------------------+----------+\n",
            "|Bulding Machine L...|[0.34863549919778...|       1.0|\n",
            "+--------------------+--------------------+----------+\n",
            "\n"
          ]
        }
      ]
    },
    {
      "cell_type": "code",
      "source": [],
      "metadata": {
        "id": "Vn4OpeOPq4U3"
      },
      "execution_count": null,
      "outputs": []
    }
  ]
}